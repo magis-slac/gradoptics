{
 "cells": [
  {
   "cell_type": "code",
   "execution_count": 1,
   "metadata": {},
   "outputs": [],
   "source": [
    "from cloudvariation import *\n",
    "import matplotlib.pyplot as plt\n",
    "import numpy as nb\n",
    "\n",
    "import pandas as pd\n",
    "import pathlib"
   ]
  },
  {
   "cell_type": "code",
   "execution_count": 2,
   "metadata": {},
   "outputs": [],
   "source": [
    "ncams = 6\n",
    "nsteps = 2000\n",
    "nexperiments = 20"
   ]
  },
  {
   "cell_type": "code",
   "execution_count": 3,
   "metadata": {},
   "outputs": [],
   "source": [
    "#azims = {-0.25, -0.2, -0.15, -0.1, -0.05, 0.0, 0.05, 0.1, 0.15, 0.2, 0.25}\n",
    "azims = {-0.25, -0.2, -0.15, -0.1, -0.05, 0.0, 0.05, 0.1, 0.15, 0.2, 0.25}\n",
    "initpars = [[[0., 0., 0.]], [0.2, 0.2, 0.2], 25.0, 10.0, 1/0.03, 0.0]"
   ]
  },
  {
   "cell_type": "code",
   "execution_count": 4,
   "metadata": {},
   "outputs": [
    {
     "name": "stdout",
     "output_type": "stream",
     "text": [
      "-0.25\n"
     ]
    },
    {
     "name": "stderr",
     "output_type": "stream",
     "text": [
      "  0%|          | 0/6 [00:00<?, ?it/s]"
     ]
    },
    {
     "name": "stderr",
     "output_type": "stream",
     "text": [
      "c:\\extrasoftware\\anaconda202309\\envs\\magisslac\\lib\\site-packages\\torch\\functional.py:504: UserWarning: torch.meshgrid: in an upcoming release, it will be required to pass the indexing argument. (Triggered internally at C:\\cb\\pytorch_1000000000000\\work\\aten\\src\\ATen\\native\\TensorShape.cpp:3191.)\n",
      "  return _VF.meshgrid(tensors, **kwargs)  # type: ignore[attr-defined]\n",
      "  0%|          | 0/6 [00:02<?, ?it/s]\n"
     ]
    },
    {
     "ename": "KeyboardInterrupt",
     "evalue": "",
     "output_type": "error",
     "traceback": [
      "\u001b[1;31m---------------------------------------------------------------------------\u001b[0m",
      "\u001b[1;31mKeyboardInterrupt\u001b[0m                         Traceback (most recent call last)",
      "Cell \u001b[1;32mIn[4], line 3\u001b[0m\n\u001b[0;32m      1\u001b[0m \u001b[38;5;28;01mfor\u001b[39;00m azim \u001b[38;5;129;01min\u001b[39;00m azims:\n\u001b[0;32m      2\u001b[0m     \u001b[38;5;28mprint\u001b[39m(azim)\n\u001b[1;32m----> 3\u001b[0m     \u001b[43mdrive\u001b[49m\u001b[43m(\u001b[49m\u001b[43mncams\u001b[49m\u001b[43m,\u001b[49m\u001b[43m \u001b[49m\u001b[43mazim\u001b[49m\u001b[43m,\u001b[49m\u001b[43m \u001b[49m\u001b[43mnsteps\u001b[49m\u001b[43m,\u001b[49m\u001b[43m \u001b[49m\u001b[43mnexperiments\u001b[49m\u001b[43m,\u001b[49m\u001b[43m \u001b[49m\u001b[38;5;124;43m'\u001b[39;49m\u001b[38;5;124;43mmulticloudvar3_fixcontrast\u001b[39;49m\u001b[38;5;124;43m'\u001b[39;49m\u001b[43m,\u001b[49m\u001b[43m \u001b[49m\u001b[43minitpars\u001b[49m\u001b[38;5;241;43m=\u001b[39;49m\u001b[43minitpars\u001b[49m\u001b[43m)\u001b[49m\n",
      "File \u001b[1;32mc:\\Users\\Alesi\\Dropbox\\work\\magisslac\\cloudvariation.py:650\u001b[0m, in \u001b[0;36mdrive\u001b[1;34m(ncams, azim, nsteps, nexperiments, dirname, initpars)\u001b[0m\n\u001b[0;32m    647\u001b[0m     dfmulti \u001b[38;5;241m=\u001b[39m pd\u001b[38;5;241m.\u001b[39mDataFrame(columns\u001b[38;5;241m=\u001b[39mcols)\n\u001b[0;32m    649\u001b[0m scene, _ \u001b[38;5;241m=\u001b[39m setup(ncams, azim)\n\u001b[1;32m--> 650\u001b[0m targets_backward, intensities_backward \u001b[38;5;241m=\u001b[39m \u001b[43mcalc_backward\u001b[49m\u001b[43m(\u001b[49m\u001b[43mscene\u001b[49m\u001b[43m,\u001b[49m\u001b[43m \u001b[49m\u001b[43mncams\u001b[49m\u001b[43m)\u001b[49m\n\u001b[0;32m    651\u001b[0m \u001b[38;5;28mprint\u001b[39m(intensities_backward)\n\u001b[0;32m    652\u001b[0m targets_forward, intensities_forward, scalefactor \u001b[38;5;241m=\u001b[39m calc_forward(scene)\n",
      "File \u001b[1;32mc:\\Users\\Alesi\\Dropbox\\work\\magisslac\\cloudvariation.py:451\u001b[0m, in \u001b[0;36mcalc_backward\u001b[1;34m(scene, n_cameras)\u001b[0m\n\u001b[0;32m    448\u001b[0m meshidx \u001b[38;5;241m=\u001b[39m meshidx\u001b[38;5;241m.\u001b[39mreshape((sensor\u001b[38;5;241m.\u001b[39mresolution[\u001b[38;5;241m0\u001b[39m]\u001b[38;5;241m*\u001b[39msensor\u001b[38;5;241m.\u001b[39mresolution[\u001b[38;5;241m1\u001b[39m]))\n\u001b[0;32m    449\u001b[0m meshidy \u001b[38;5;241m=\u001b[39m meshidy\u001b[38;5;241m.\u001b[39mreshape((sensor\u001b[38;5;241m.\u001b[39mresolution[\u001b[38;5;241m0\u001b[39m]\u001b[38;5;241m*\u001b[39msensor\u001b[38;5;241m.\u001b[39mresolution[\u001b[38;5;241m1\u001b[39m]))\n\u001b[1;32m--> 451\u001b[0m sumintensities \u001b[38;5;241m=\u001b[39m \u001b[43mtorch\u001b[49m\u001b[38;5;241;43m.\u001b[39;49m\u001b[43mzeros\u001b[49m\u001b[43m(\u001b[49m\u001b[43m(\u001b[49m\u001b[43msensor\u001b[49m\u001b[38;5;241;43m.\u001b[39;49m\u001b[43mresolution\u001b[49m\u001b[43m[\u001b[49m\u001b[38;5;241;43m0\u001b[39;49m\u001b[43m]\u001b[49m\u001b[43m,\u001b[49m\u001b[43m \u001b[49m\u001b[43msensor\u001b[49m\u001b[38;5;241;43m.\u001b[39;49m\u001b[43mresolution\u001b[49m\u001b[43m[\u001b[49m\u001b[38;5;241;43m1\u001b[39;49m\u001b[43m]\u001b[49m\u001b[43m)\u001b[49m\u001b[43m,\u001b[49m\u001b[43m \u001b[49m\u001b[43mdtype\u001b[49m\u001b[38;5;241;43m=\u001b[39;49m\u001b[43mtorch\u001b[49m\u001b[38;5;241;43m.\u001b[39;49m\u001b[43mfloat64\u001b[49m\u001b[43m,\u001b[49m\u001b[43m \u001b[49m\u001b[43mdevice\u001b[49m\u001b[38;5;241;43m=\u001b[39;49m\u001b[38;5;124;43m'\u001b[39;49m\u001b[38;5;124;43mcuda\u001b[39;49m\u001b[38;5;124;43m'\u001b[39;49m\u001b[43m)\u001b[49m\n\u001b[0;32m    452\u001b[0m \u001b[38;5;28;01mfor\u001b[39;00m _ \u001b[38;5;129;01min\u001b[39;00m \u001b[38;5;28mrange\u001b[39m(nloops):\n\u001b[0;32m    453\u001b[0m     \u001b[38;5;66;03m# render pixels for target\u001b[39;00m\n\u001b[0;32m    454\u001b[0m     intensity \u001b[38;5;241m=\u001b[39m render_pixels(sensor, lens, scene, scene\u001b[38;5;241m.\u001b[39mlight_source, \u001b[38;5;241m1\u001b[39m, \u001b[38;5;241m1\u001b[39m, meshidx, meshidy, integrator, device\u001b[38;5;241m=\u001b[39m\u001b[38;5;124m'\u001b[39m\u001b[38;5;124mcuda\u001b[39m\u001b[38;5;124m'\u001b[39m)\n",
      "\u001b[1;31mKeyboardInterrupt\u001b[0m: "
     ]
    }
   ],
   "source": [
    "for azim in azims:\n",
    "    print(azim)\n",
    "    drive(ncams, azim, nsteps, nexperiments, 'multicloudvar3_fixcontrast', initpars=initpars)"
   ]
  }
 ],
 "metadata": {
  "kernelspec": {
   "display_name": "magisslac",
   "language": "python",
   "name": "python3"
  },
  "language_info": {
   "codemirror_mode": {
    "name": "ipython",
    "version": 3
   },
   "file_extension": ".py",
   "mimetype": "text/x-python",
   "name": "python",
   "nbconvert_exporter": "python",
   "pygments_lexer": "ipython3",
   "version": "3.10.13"
  }
 },
 "nbformat": 4,
 "nbformat_minor": 2
}
