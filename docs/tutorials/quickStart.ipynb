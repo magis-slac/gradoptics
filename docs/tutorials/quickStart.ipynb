{
 "cells": [
  {
   "cell_type": "code",
   "execution_count": 1,
   "metadata": {},
   "outputs": [],
   "source": [
    "import torch\n",
    "import matplotlib.pyplot as plt\n",
    "from tqdm import tqdm\n",
    "import numpy as np\n",
    "\n",
    "import diffoptics as optics"
   ]
  },
  {
   "cell_type": "markdown",
   "metadata": {},
   "source": [
    "# Part 1 : hands-on"
   ]
  },
  {
   "cell_type": "markdown",
   "metadata": {},
   "source": [
    "## Let us create a scene with a sensor, a lens and an atom cloud"
   ]
  },
  {
   "cell_type": "code",
   "execution_count": 2,
   "metadata": {},
   "outputs": [],
   "source": [
    "f = 35e-3 # Focal length (in meters)\n",
    "m = .15 # Magnification"
   ]
  },
  {
   "cell_type": "code",
   "execution_count": 3,
   "metadata": {},
   "outputs": [],
   "source": [
    "image_pof = -f * (1 + m)\n",
    "object_pof = f * (1 + m) / m\n",
    "\n",
    "# Sensor\n",
    "sensor = optics.Sensor(position=(image_pof, 0, 0), resolution=(9600, 9600), \n",
    "                       pixel_size=(3.76e-6, 3.76e-6), poisson_noise_mean=2, \n",
    "                       quantum_efficiency=0.8)\n",
    "\n",
    "# Lens\n",
    "lens = optics.PerfectLens(f=f, m=m, position=torch.tensor([0., 0., 0.]))\n",
    "\n",
    "# Scene\n",
    "scene = optics.Scene(sensor)\n",
    "scene.add_object(lens, is_lens=True)\n",
    "\n",
    "atom_cloud = optics.LightSourceFromDistribution(optics.AtomCloud(position=torch.tensor([object_pof, 0., 0.]), phi=0.1))"
   ]
  },
  {
   "cell_type": "markdown",
   "metadata": {},
   "source": [
    "### Visualizing the scene"
   ]
  },
  {
   "cell_type": "code",
   "execution_count": null,
   "metadata": {},
   "outputs": [],
   "source": [
    "fig = plt.figure(figsize=(12, 12))\n",
    "ax = fig.gca(projection='3d')\n",
    "scene.plot(ax)\n",
    "atom_cloud.plot(ax, c='black')"
   ]
  },
  {
   "cell_type": "markdown",
   "metadata": {},
   "source": [
    "### Sampling rays in 4pi from the cloud"
   ]
  },
  {
   "cell_type": "code",
   "execution_count": 5,
   "metadata": {},
   "outputs": [],
   "source": [
    "device = torch.device('cuda' if torch.cuda.is_available() else 'cpu')"
   ]
  },
  {
   "cell_type": "code",
   "execution_count": null,
   "metadata": {},
   "outputs": [],
   "source": [
    "# Sample rays in 4pi\n",
    "nb_rays = int(1e3)\n",
    "rays = atom_cloud.sample_rays(nb_rays, device=device)\n",
    "\n",
    "# Visualization\n",
    "fig = plt.figure(figsize=(12, 12))\n",
    "ax = fig.gca(projection='3d')\n",
    "scene.plot(ax)\n",
    "atom_cloud.plot(ax, c='black')\n",
    "rays.plot(ax, torch.zeros(nb_rays) + .1)"
   ]
  },
  {
   "cell_type": "markdown",
   "metadata": {},
   "source": [
    "### Producing an image"
   ]
  },
  {
   "cell_type": "code",
   "execution_count": null,
   "metadata": {},
   "outputs": [],
   "source": [
    "# Sampling rays in 4pi\n",
    "rays = atom_cloud.sample_rays(int(50e6), device=device)\n",
    "\n",
    "# Tracking the rays to the sensor\n",
    "optics.forward_ray_tracing(rays, scene, max_iterations=2, quantum_efficiency=True)\n",
    "\n",
    "# Cleaning\n",
    "del rays\n",
    "torch.cuda.empty_cache()\n",
    "\n",
    "# Readout\n",
    "img = scene.sensor.readout(add_poisson_noise=True)"
   ]
  },
  {
   "cell_type": "code",
   "execution_count": null,
   "metadata": {},
   "outputs": [],
   "source": [
    "plt.imshow(img.data.numpy()) # Can't see anything, the sensor is too large"
   ]
  },
  {
   "cell_type": "code",
   "execution_count": null,
   "metadata": {},
   "outputs": [],
   "source": [
    "img_center = (img.shape[0] // 2, img.shape[1] // 2)\n",
    "width = 50\n",
    "plt.imshow(img[img_center[0] - width // 2 : img_center[0] + width // 2,\n",
    "               img_center[1] - width // 2 : img_center[1] + width // 2].data.numpy())"
   ]
  },
  {
   "cell_type": "markdown",
   "metadata": {},
   "source": [
    "### Let us image over 10us (we expect 1B rays) and let us introduce poisson fluctuations"
   ]
  },
  {
   "cell_type": "code",
   "execution_count": null,
   "metadata": {},
   "outputs": [],
   "source": [
    "nb_atoms = torch.poisson(torch.tensor([1e6]))\n",
    "nb_rays = torch.poisson((nb_atoms * 1e3))\n",
    "\n",
    "print(nb_rays)"
   ]
  },
  {
   "cell_type": "markdown",
   "metadata": {},
   "source": [
    "### Ray tracing 1B rays won't fit in memory. Let us process with minibatches (recommended to run on GPU)"
   ]
  },
  {
   "cell_type": "code",
   "execution_count": null,
   "metadata": {},
   "outputs": [],
   "source": [
    "with torch.no_grad():\n",
    "    \n",
    "    nb_rays_left_to_sample = int(nb_rays)\n",
    "    batch_size = int(50e6)\n",
    "    for _ in tqdm(range(int(np.ceil(nb_rays / batch_size)))):\n",
    "        rays = atom_cloud.sample_rays(min(batch_size, nb_rays_left_to_sample), device=device)\n",
    "        optics.forward_ray_tracing(rays, scene, max_iterations=1, quantum_efficiency=True)\n",
    "        nb_rays_left_to_sample -= batch_size\n",
    "\n",
    "        # Cleaning\n",
    "        del rays\n",
    "        torch.cuda.empty_cache()\n",
    "    \n",
    "img = scene.sensor.readout(add_poisson_noise=True)"
   ]
  },
  {
   "cell_type": "code",
   "execution_count": null,
   "metadata": {},
   "outputs": [],
   "source": [
    "img_center = (img.shape[0] // 2, img.shape[1] // 2)\n",
    "width = 50\n",
    "plt.imshow(img[img_center[0] - width // 2 : img_center[0] + width // 2,\n",
    "               img_center[1] - width // 2 : img_center[1] + width // 2].data.numpy())"
   ]
  },
  {
   "cell_type": "markdown",
   "metadata": {},
   "source": [
    "# Part 2 : creating helpers"
   ]
  },
  {
   "cell_type": "code",
   "execution_count": null,
   "metadata": {},
   "outputs": [],
   "source": [
    "def make_scene(f=0.05, m=0.15, na=1 / 1.4, sensor_resolution=(9600, 9600), sensor_pixel_size=(3.76e-6, 3.76e-6),\n",
    "               poisson_noise_mean=2, quantum_efficiency=0.8):\n",
    "\n",
    "    image_pof = -f * (1 + m)\n",
    "    object_pof = f * (1 + m) / m\n",
    "\n",
    "    # Sensor\n",
    "    sensor = optics.Sensor(position=(image_pof, 0, 0), resolution=sensor_resolution, pixel_size=sensor_pixel_size,\n",
    "                    poisson_noise_mean=poisson_noise_mean, quantum_efficiency=quantum_efficiency)\n",
    "\n",
    "    # Scene\n",
    "    scene = optics.Scene(sensor)\n",
    "\n",
    "    # Lens\n",
    "    lens = optics.PerfectLens(f=f, m=m, na=na)\n",
    "    scene.add_object(lens, is_lens=True)\n",
    "    \n",
    "    # Atom Cloud\n",
    "    atom_cloud = optics.LightSourceFromDistribution(optics.AtomCloud(position=torch.tensor([object_pof, 0., 0.])))\n",
    "\n",
    "    return scene, atom_cloud"
   ]
  },
  {
   "cell_type": "code",
   "execution_count": null,
   "metadata": {},
   "outputs": [],
   "source": [
    "def make_image(scene, atom_cloud, phi=0.1, device='cpu', nb_rays=int(1e9), batch_size=int(50e6),\n",
    "               quantum_efficiency=True, add_poisson_noise=True, show_progress=True):\n",
    "\n",
    "    with torch.no_grad():\n",
    "\n",
    "        progress_bar = tqdm if show_progress else lambda x: x\n",
    "        nb_rays_left_to_sample = nb_rays\n",
    "        for _ in progress_bar(range(int(np.ceil(nb_rays / batch_size)))):\n",
    "            rays = atom_cloud.sample_rays(min(batch_size, nb_rays_left_to_sample), device=device)\n",
    "            optics.forward_ray_tracing(rays, scene, max_iterations=1, quantum_efficiency=quantum_efficiency)\n",
    "            nb_rays_left_to_sample -= batch_size\n",
    "\n",
    "        return scene.sensor.readout(add_poisson_noise=add_poisson_noise)"
   ]
  },
  {
   "cell_type": "code",
   "execution_count": null,
   "metadata": {},
   "outputs": [],
   "source": [
    "calibration_camera = {'f': 0.025,\n",
    "                      'm': 0.243,\n",
    "                      'na': 1 / 1.4,\n",
    "                      'quantum_efficiency': .75,\n",
    "                      'poisson_noise_mean': 3,\n",
    "                      'sensor_resolution': (3088, 3088),\n",
    "                      'sensor_pixel_size': (2.4e-6, 2.4e-6)}\n",
    "\n",
    "scene, atom_cloud = make_scene(**calibration_camera)\n",
    "\n",
    "img = make_image(scene, atom_cloud)"
   ]
  },
  {
   "cell_type": "markdown",
   "metadata": {},
   "source": [
    "# Part 3 : Analyses"
   ]
  },
  {
   "cell_type": "markdown",
   "metadata": {},
   "source": [
    "The interface makes it easy to run different analyses\n",
    "- Grid search over the lens and camera parameters\n",
    "- Studying the DOF/FOV by varying the atom cloud position\n",
    "- ..."
   ]
  }
 ],
 "metadata": {
  "kernelspec": {
   "display_name": "Python 3",
   "language": "python",
   "name": "python3"
  },
  "language_info": {
   "codemirror_mode": {
    "name": "ipython",
    "version": 3
   },
   "file_extension": ".py",
   "mimetype": "text/x-python",
   "name": "python",
   "nbconvert_exporter": "python",
   "pygments_lexer": "ipython3",
   "version": "3.8.5"
  }
 },
 "nbformat": 4,
 "nbformat_minor": 4
}